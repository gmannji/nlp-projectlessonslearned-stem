{
 "cells": [
  {
   "cell_type": "code",
   "execution_count": 3,
   "metadata": {},
   "outputs": [
    {
     "name": "stdout",
     "output_type": "stream",
     "text": [
      "Index(['Owning Item', 'Package', 'Categories', 'ID', 'Lesson Description',\n",
      "       'Cause', 'Impact / Consequences', 'Action Taken / Recommendation',\n",
      "       'Action Title', 'Impact Level'],\n",
      "      dtype='object')\n",
      "(1117, 10)\n"
     ]
    }
   ],
   "source": [
    "## 2. Overview of the Data ##\n",
    "import collections\n",
    "import pandas as pd\n",
    "pll = pd.read_excel(\"PLL Report - 2.xlsx\")\n",
    "#submissions.columns = [\"submission_time\", \"upvotes\", \"url\", \"headline\"]\n",
    "\n",
    "#submissions = submissions.dropna()\n",
    "cycle=list(pll.itertuples(index=False))\n",
    "\n",
    "columnlist_ori=[]\n",
    "\n",
    "# loop rows in cycle\n",
    "header_df=0\n",
    "while header_df < len(cycle):\n",
    "    for colu in cycle[header_df]:\n",
    "        columnlist_ori.append(colu)\n",
    "    counter=collections.Counter(columnlist_ori) # Counting occurences in the columnlist\n",
    "    if counter['N/A'] < 5: # set the value for blank columns less than 5. this should give good impression that the row is the first row as header.\n",
    "        break\n",
    "    header_df+=1\n",
    "    del columnlist_ori[:]\n",
    "\n",
    "pll = pd.read_excel(\"PLL Report - 2.xlsx\", header = 3)\n",
    "print(pll.columns)\n",
    "print(pll.shape)"
   ]
  },
  {
   "cell_type": "code",
   "execution_count": 4,
   "metadata": {},
   "outputs": [
    {
     "data": {
      "text/plain": [
       "[['(Good',\n",
       "  'PLL):',\n",
       "  'Construction',\n",
       "  'manpower',\n",
       "  '(direct',\n",
       "  'workers)',\n",
       "  'sufficiency',\n",
       "  'were',\n",
       "  'less',\n",
       "  'affected',\n",
       "  'by',\n",
       "  'the',\n",
       "  'low',\n",
       "  'productivity',\n",
       "  'and',\n",
       "  'inconsistency',\n",
       "  'of',\n",
       "  'performance',\n",
       "  'by',\n",
       "  'local',\n",
       "  'workers.'],\n",
       " ['1.',\n",
       "  'No',\n",
       "  'availability',\n",
       "  'of',\n",
       "  'EPCC/Rotating',\n",
       "  'Field',\n",
       "  'Engineers',\n",
       "  'at',\n",
       "  'site.',\n",
       "  '2.',\n",
       "  'No',\n",
       "  'clear',\n",
       "  'cut',\n",
       "  'separation',\n",
       "  'in',\n",
       "  'term',\n",
       "  'of',\n",
       "  'role',\n",
       "  'for',\n",
       "  'Rotating',\n",
       "  'Superintendent/Rotating',\n",
       "  'Field',\n",
       "  'Engineer',\n",
       "  'at',\n",
       "  'site'],\n",
       " ['1.',\n",
       "  'PDR',\n",
       "  'statement',\n",
       "  'is',\n",
       "  'about',\n",
       "  'the',\n",
       "  'OFFLINE',\n",
       "  '100%',\n",
       "  'INERGEN',\n",
       "  'spare',\n",
       "  'scope',\n",
       "  'deleted',\n",
       "  'but',\n",
       "  'the',\n",
       "  'requirement',\n",
       "  'of',\n",
       "  'ONLINE',\n",
       "  '100%',\n",
       "  'spare',\n",
       "  'INERGEN',\n",
       "  'is',\n",
       "  'compulsory.',\n",
       "  '2.',\n",
       "  'Mismatch',\n",
       "  'between',\n",
       "  'PDR',\n",
       "  'and',\n",
       "  'BOMBA',\n",
       "  'requirements'],\n",
       " ['1.',\n",
       "  'Poor',\n",
       "  'Subcontract',\n",
       "  'Management',\n",
       "  'by',\n",
       "  'EPCC',\n",
       "  'Contractor',\n",
       "  'at',\n",
       "  'site',\n",
       "  '2.',\n",
       "  'Poor',\n",
       "  'coordination',\n",
       "  'in',\n",
       "  'Subcontracting',\n",
       "  'activities',\n",
       "  'at',\n",
       "  'Engineering',\n",
       "  'office'],\n",
       " ['3D',\n",
       "  'Vendor',\n",
       "  '/',\n",
       "  'LLI',\n",
       "  'shall',\n",
       "  'be',\n",
       "  'incorporate',\n",
       "  'in',\n",
       "  'the',\n",
       "  'main',\n",
       "  '3D',\n",
       "  'model.']]"
      ]
     },
     "execution_count": 4,
     "metadata": {},
     "output_type": "execute_result"
    }
   ],
   "source": [
    "## 3. Tokenizing the Headlines ##\n",
    "\n",
    "tokenized_titles = []\n",
    "for title in pll['Lesson Description']:\n",
    "    token = title.split()\n",
    "    tokenized_titles.append(token)\n",
    "\n",
    "tokenized_titles[0:5]"
   ]
  },
  {
   "cell_type": "code",
   "execution_count": 5,
   "metadata": {
    "scrolled": true
   },
   "outputs": [
    {
     "data": {
      "text/plain": [
       "[['good',\n",
       "  'pll',\n",
       "  'construction',\n",
       "  'manpower',\n",
       "  'direct',\n",
       "  'workers',\n",
       "  'sufficiency',\n",
       "  'were',\n",
       "  'less',\n",
       "  'affected',\n",
       "  'by',\n",
       "  'the',\n",
       "  'low',\n",
       "  'productivity',\n",
       "  'and',\n",
       "  'inconsistency',\n",
       "  'of',\n",
       "  'performance',\n",
       "  'by',\n",
       "  'local',\n",
       "  'workers'],\n",
       " ['1',\n",
       "  'no',\n",
       "  'availability',\n",
       "  'of',\n",
       "  'epccrotating',\n",
       "  'field',\n",
       "  'engineers',\n",
       "  'at',\n",
       "  'site',\n",
       "  '2',\n",
       "  'no',\n",
       "  'clear',\n",
       "  'cut',\n",
       "  'separation',\n",
       "  'in',\n",
       "  'term',\n",
       "  'of',\n",
       "  'role',\n",
       "  'for',\n",
       "  'rotating',\n",
       "  'superintendentrotating',\n",
       "  'field',\n",
       "  'engineer',\n",
       "  'at',\n",
       "  'site'],\n",
       " ['1',\n",
       "  'pdr',\n",
       "  'statement',\n",
       "  'is',\n",
       "  'about',\n",
       "  'the',\n",
       "  'offline',\n",
       "  '100%',\n",
       "  'inergen',\n",
       "  'spare',\n",
       "  'scope',\n",
       "  'deleted',\n",
       "  'but',\n",
       "  'the',\n",
       "  'requirement',\n",
       "  'of',\n",
       "  'online',\n",
       "  '100%',\n",
       "  'spare',\n",
       "  'inergen',\n",
       "  'is',\n",
       "  'compulsory',\n",
       "  '2',\n",
       "  'mismatch',\n",
       "  'between',\n",
       "  'pdr',\n",
       "  'and',\n",
       "  'bomba',\n",
       "  'requirements'],\n",
       " ['1',\n",
       "  'poor',\n",
       "  'subcontract',\n",
       "  'management',\n",
       "  'by',\n",
       "  'epcc',\n",
       "  'contractor',\n",
       "  'at',\n",
       "  'site',\n",
       "  '2',\n",
       "  'poor',\n",
       "  'coordination',\n",
       "  'in',\n",
       "  'subcontracting',\n",
       "  'activities',\n",
       "  'at',\n",
       "  'engineering',\n",
       "  'office'],\n",
       " ['3d',\n",
       "  'vendor',\n",
       "  '',\n",
       "  'lli',\n",
       "  'shall',\n",
       "  'be',\n",
       "  'incorporate',\n",
       "  'in',\n",
       "  'the',\n",
       "  'main',\n",
       "  '3d',\n",
       "  'model']]"
      ]
     },
     "execution_count": 5,
     "metadata": {},
     "output_type": "execute_result"
    }
   ],
   "source": [
    "## 4. Preprocessing Tokens to Increase Accuracy ##\n",
    "\n",
    "import string\n",
    "punctuation = [\",\", \":\", \";\", \".\", \"'\", '\"', \"’\", \"?\", \"/\", \"-\", \"+\", \"&\", \"(\", \")\"]\n",
    "clean_tokenized = []\n",
    "\n",
    "for title in tokenized_titles:\n",
    "    #lowercase = [x.lower() for x in headline]\n",
    "    tokens = []\n",
    "    for token in title:\n",
    "        token = token.lower()\n",
    "        for punc in punctuation:\n",
    "            token = token.replace(punc,'')\n",
    "        tokens.append(token)\n",
    "        \n",
    "    clean_tokenized.append(tokens)\n",
    "\n",
    "clean_tokenized[:5]"
   ]
  },
  {
   "cell_type": "code",
   "execution_count": 6,
   "metadata": {},
   "outputs": [
    {
     "name": "stdout",
     "output_type": "stream",
     "text": [
      "2736\n",
      "1339\n",
      "   by  workers  of  no  field  at  site  1  the  100%  ...   sound  hazardous  \\\n",
      "0   0        0   0   0      0   0     0  0    0     0  ...       0          0   \n",
      "1   0        0   0   0      0   0     0  0    0     0  ...       0          0   \n",
      "2   0        0   0   0      0   0     0  0    0     0  ...       0          0   \n",
      "3   0        0   0   0      0   0     0  0    0     0  ...       0          0   \n",
      "4   0        0   0   0      0   0     0  0    0     0  ...       0          0   \n",
      "\n",
      "   wind  seismic  letter  split  gasket  earthling  continues  slab  \n",
      "0     0        0       0      0       0          0          0     0  \n",
      "1     0        0       0      0       0          0          0     0  \n",
      "2     0        0       0      0       0          0          0     0  \n",
      "3     0        0       0      0       0          0          0     0  \n",
      "4     0        0       0      0       0          0          0     0  \n",
      "\n",
      "[5 rows x 1339 columns]\n"
     ]
    }
   ],
   "source": [
    "## 5. Assembling a Matrix of Unique Words ##\n",
    "\n",
    "import numpy as np\n",
    "unique_tokens = []\n",
    "single_tokens = []\n",
    "\n",
    "for title in clean_tokenized:\n",
    "    for token in title:\n",
    "        if token not in single_tokens:\n",
    "            single_tokens.append(token)\n",
    "        elif token in single_tokens and token not in unique_tokens:\n",
    "            unique_tokens.append(token)\n",
    "\n",
    "print(len(single_tokens))\n",
    "print(len(unique_tokens))\n",
    "\n",
    "counts = pd.DataFrame(0, index=np.arange(len(clean_tokenized)), columns=unique_tokens)\n",
    "\n",
    "print(counts.head())"
   ]
  },
  {
   "cell_type": "code",
   "execution_count": 7,
   "metadata": {},
   "outputs": [],
   "source": [
    "## 6. Counting Token Occurrences ##\n",
    "\n",
    "# We've already loaded in clean_tokenized and counts\n",
    "\n",
    "for row_idx, title in enumerate(clean_tokenized):\n",
    "    for token in title:\n",
    "        if token in unique_tokens:\n",
    "            col_idx = unique_tokens.index(token)\n",
    "            counts.iloc[row_idx,col_idx] += 1\n",
    "\n",
    "\n"
   ]
  },
  {
   "cell_type": "code",
   "execution_count": 8,
   "metadata": {},
   "outputs": [
    {
     "name": "stdout",
     "output_type": "stream",
     "text": [
      "   by  workers  of  no  field  at  site  1  the  100%  ...   sound  hazardous  \\\n",
      "0   2        2   1   0      0   0     0  0    1     0  ...       0          0   \n",
      "1   0        0   2   2      2   2     2  1    0     0  ...       0          0   \n",
      "2   0        0   1   0      0   0     0  1    2     2  ...       0          0   \n",
      "3   1        0   0   0      0   2     1  1    0     0  ...       0          0   \n",
      "4   0        0   0   0      0   0     0  0    1     0  ...       0          0   \n",
      "\n",
      "   wind  seismic  letter  split  gasket  earthling  continues  slab  \n",
      "0     0        0       0      0       0          0          0     0  \n",
      "1     0        0       0      0       0          0          0     0  \n",
      "2     0        0       0      0       0          0          0     0  \n",
      "3     0        0       0      0       0          0          0     0  \n",
      "4     0        0       0      0       0          0          0     0  \n",
      "\n",
      "[5 rows x 1339 columns]\n"
     ]
    }
   ],
   "source": [
    "print(counts.head())"
   ]
  },
  {
   "cell_type": "code",
   "execution_count": 9,
   "metadata": {},
   "outputs": [
    {
     "name": "stdout",
     "output_type": "stream",
     "text": [
      "   workers  no  field  at  site  1  spare  is  2  pdr     ...      notice  \\\n",
      "0        2   0      0   0     0  0      0   0  0    0     ...           0   \n",
      "1        0   2      2   2     2  1      0   0  1    0     ...           0   \n",
      "2        0   0      0   0     0  1      2   2  1    2     ...           0   \n",
      "3        0   0      0   2     1  1      0   0  1    0     ...           0   \n",
      "4        0   0      0   0     0  0      0   0  0    0     ...           0   \n",
      "\n",
      "   request  several  raised  short  slow  error  many  untimely  sufficient  \n",
      "0        0        0       0      0     0      0     0         0           0  \n",
      "1        0        0       0      0     0      0     0         0           0  \n",
      "2        0        0       0      0     0      0     0         0           0  \n",
      "3        0        0       0      0     0      0     0         0           0  \n",
      "4        0        0       0      0     0      0     0         0           0  \n",
      "\n",
      "[5 rows x 481 columns]\n"
     ]
    }
   ],
   "source": [
    "## 7. Removing Columns to Increase Accuracy ##\n",
    "\n",
    "# We've already loaded in clean_tokenized and counts\n",
    "word_counts = counts.sum()\n",
    "counts = counts.loc[:,(word_counts >= 5) & (word_counts <= 100)]\n",
    "\n",
    "print(counts.head())"
   ]
  },
  {
   "cell_type": "code",
   "execution_count": 10,
   "metadata": {},
   "outputs": [
    {
     "name": "stdout",
     "output_type": "stream",
     "text": [
      "of             460\n",
      "and            334\n",
      "to             321\n",
      "the            301\n",
      "for            286\n",
      "in             236\n",
      "not            204\n",
      "               194\n",
      "project        123\n",
      "by             119\n",
      "on             103\n",
      "with           101\n",
      "contractor      95\n",
      "practice        90\n",
      "late            87\n",
      "best            86\n",
      "at              86\n",
      "engineering     83\n",
      "requirement     80\n",
      "be              78\n",
      "was             76\n",
      "from            75\n",
      "is              71\n",
      "site            69\n",
      "during          69\n",
      "design          67\n",
      "epcc            65\n",
      "as              65\n",
      "process         64\n",
      "equipment       61\n",
      "              ... \n",
      "mc               2\n",
      "kl               2\n",
      "pcb              2\n",
      "scheme           2\n",
      "chlorine         2\n",
      "turbine          2\n",
      "casting          2\n",
      "close            2\n",
      "p7               2\n",
      "ring             2\n",
      "oxygen           2\n",
      "bus              2\n",
      "though           2\n",
      "supplied         2\n",
      "tcf              2\n",
      "advance          2\n",
      "row              2\n",
      "elevation        2\n",
      "considered       2\n",
      "obtaining        2\n",
      "sources          2\n",
      "nuclear          2\n",
      "coupon           2\n",
      "flowmeter        2\n",
      "format           2\n",
      "scaffolding      2\n",
      "culvert          2\n",
      "cut              2\n",
      "regards          2\n",
      "slab             2\n",
      "Length: 1339, dtype: int64\n",
      "(1117, 481)\n"
     ]
    }
   ],
   "source": [
    "print(word_counts.sort_values(ascending = False))\n",
    "print(counts.shape)"
   ]
  },
  {
   "cell_type": "code",
   "execution_count": 75,
   "metadata": {},
   "outputs": [
    {
     "data": {
      "text/plain": [
       "344     20\n",
       "502     19\n",
       "647     19\n",
       "548     18\n",
       "490     18\n",
       "460     18\n",
       "598     17\n",
       "345     17\n",
       "1018    17\n",
       "375     16\n",
       "421     16\n",
       "1023    16\n",
       "889     15\n",
       "342     15\n",
       "273     15\n",
       "926     15\n",
       "489     15\n",
       "515     14\n",
       "686     14\n",
       "364     14\n",
       "299     14\n",
       "1034    14\n",
       "329     14\n",
       "1102    14\n",
       "347     14\n",
       "922     13\n",
       "900     13\n",
       "506     13\n",
       "815     13\n",
       "908     13\n",
       "        ..\n",
       "263      6\n",
       "269      6\n",
       "278      6\n",
       "294      6\n",
       "296      6\n",
       "910      6\n",
       "306      6\n",
       "309      6\n",
       "310      6\n",
       "315      6\n",
       "324      6\n",
       "326      6\n",
       "327      6\n",
       "897      6\n",
       "331      6\n",
       "339      6\n",
       "623      6\n",
       "875      6\n",
       "868      6\n",
       "862      6\n",
       "848      6\n",
       "351      6\n",
       "839      6\n",
       "355      6\n",
       "361      6\n",
       "833      6\n",
       "832      6\n",
       "824      6\n",
       "381      6\n",
       "1115     6\n",
       "Length: 384, dtype: int64"
      ]
     },
     "execution_count": 75,
     "metadata": {},
     "output_type": "execute_result"
    }
   ],
   "source": [
    "word_counts_row = counts.sum(axis = 1)\n",
    "word_counts_row[word_counts_row>5].sort_values(ascending = False)"
   ]
  },
  {
   "cell_type": "code",
   "execution_count": null,
   "metadata": {},
   "outputs": [],
   "source": [
    "print(pll.loc[502]['Lesson Description'])"
   ]
  },
  {
   "cell_type": "code",
   "execution_count": null,
   "metadata": {},
   "outputs": [],
   "source": [
    "#finder = BigramCollocationFinder.from_words(dat[\"text_clean2\"])\n",
    "#finder\n",
    "\n",
    "from nltk import word_tokenize\n",
    "from nltk.collocations import BigramCollocationFinder\n",
    "bigram_measures = nltk.collocations.BigramAssocMeasures()\n",
    "text = \"obama says that obama says that the war is happening\"\n",
    "finder = BigramCollocationFinder.from_words(counts)\n",
    "finder.nbest(bigram_measures.pmi, 20)"
   ]
  },
  {
   "cell_type": "code",
   "execution_count": null,
   "metadata": {},
   "outputs": [],
   "source": [
    "from nltk.collocations import TrigramCollocationFinder\n",
    "trigram_measures = nltk.collocations.TrigramAssocMeasures()\n",
    "finder = TrigramCollocationFinder.from_words(counts)\n",
    "finder.nbest(trigram_measures.pmi, 20)\n"
   ]
  },
  {
   "cell_type": "code",
   "execution_count": null,
   "metadata": {},
   "outputs": [],
   "source": [
    "## 8. Splitting the Data Into Train and Test Sets ##\n",
    "\n",
    "from sklearn.model_selection import train_test_split\n",
    "\n",
    "X_train, X_test, y_train, y_test = train_test_split(counts, pll[\"Categories\"], test_size=0.2, random_state=1)\n",
    "\n",
    "## 9. Making Predictions With fit() ##\n",
    "\n",
    "from sklearn.linear_model import LinearRegression\n",
    "\n",
    "clf = LinearRegression()\n",
    "clf.fit(X_train,y_train)\n",
    "predictions = clf.predict(X_test)\n",
    "\n",
    "## 10. Calculating Prediction Error ##\n",
    "\n",
    "from sklearn.metrics import mean_squared_error\n",
    "mse = mean_squared_error(y_test,predictions)"
   ]
  },
  {
   "cell_type": "code",
   "execution_count": 12,
   "metadata": {},
   "outputs": [
    {
     "data": {
      "text/plain": [
       "array(['RC-P2-CDU, ARDS, HCDU', 'RC-P22-Tank Farm', 'PC-P7-POLYPROPYLENE',\n",
       "       'PC-P6A-LLDPE', 'IO-P16B-RWTP', 'PC-P11-EO & EG',\n",
       "       'RC-P1-RFCC, LTU, PRU', 'Package 20C2-EPCC',\n",
       "       'P25-RAW WATER SUPPPLY PROJECT (PAMER) TO RAPID',\n",
       "       'IO-P20B1-MOLF SETAPA', 'RC-P4-ARU, SRU, SWS, LSSU & SSU',\n",
       "       'ASU-AIR SEPARATION UNIT', 'RC-P28-EURO 5 MOGAS', 'RC-P32-QMI',\n",
       "       'IO-P20A1-TCCF & INFRA', 'RC-P28B-EURO 5', 'Package 18A&B-EPCC',\n",
       "       'IO-P20B2-MOLF RAMUNIA', 'RC-P30-ADDITIONAL OLEFINS STORAGE'],\n",
       "      dtype=object)"
      ]
     },
     "execution_count": 12,
     "metadata": {},
     "output_type": "execute_result"
    }
   ],
   "source": [
    "pll[\"Package\"].unique()"
   ]
  },
  {
   "cell_type": "code",
   "execution_count": 13,
   "metadata": {},
   "outputs": [],
   "source": [
    "pll[\"Owning Item\"]\n",
    "\n",
    "tokenized_item = []\n",
    "for item in pll[\"Owning Item\"]:\n",
    "    token = item.split('>')\n",
    "    tokenized_item.append(token[3])\n",
    "\n",
    "pll['Phase'] = tokenized_item"
   ]
  },
  {
   "cell_type": "code",
   "execution_count": null,
   "metadata": {},
   "outputs": [],
   "source": [
    "test = pll.groupby(['Phase','Package','Categories']).size()\n",
    "test"
   ]
  },
  {
   "cell_type": "code",
   "execution_count": 14,
   "metadata": {},
   "outputs": [],
   "source": [
    "counts_cols = counts.columns.tolist()\n",
    "new_col = []\n",
    "for col in counts_cols:\n",
    "    if len(col) > 3:\n",
    "        new_col.append(col)\n",
    "\n",
    "counts = counts[new_col]\n",
    "counts.drop(columns = ['best','practice'],axis = 1, inplace = True)"
   ]
  },
  {
   "cell_type": "code",
   "execution_count": 15,
   "metadata": {},
   "outputs": [
    {
     "data": {
      "text/plain": [
       "contractor        89\n",
       "late              87\n",
       "engineering       75\n",
       "requirement       74\n",
       "from              74\n",
       "during            69\n",
       "design            64\n",
       "site              64\n",
       "epcc              62\n",
       "process           61\n",
       "equipment         57\n",
       "piping            53\n",
       "work              53\n",
       "vendor            52\n",
       "construction      49\n",
       "mechanical        48\n",
       "between           43\n",
       "document          43\n",
       "qaqc              42\n",
       "lack              42\n",
       "instrument        41\n",
       "review            41\n",
       "material          41\n",
       "stage             40\n",
       "management        40\n",
       "delay             38\n",
       "electrical        35\n",
       "schedule          35\n",
       "documents         35\n",
       "requirements      33\n",
       "                  ..\n",
       "adequate           5\n",
       "submit             5\n",
       "commented          5\n",
       "plot               5\n",
       "overall            5\n",
       "shop               5\n",
       "acceptance         5\n",
       "deliverable        5\n",
       "interpretation     5\n",
       "made               5\n",
       "rating             4\n",
       "blast              4\n",
       "raised             4\n",
       "spare              4\n",
       "head               4\n",
       "open               4\n",
       "coating            4\n",
       "preservation       4\n",
       "receiving          4\n",
       "interfaces         4\n",
       "industry           4\n",
       "datasheet          4\n",
       "valves             3\n",
       "painting           3\n",
       "datasheets         3\n",
       "storage            3\n",
       "notice             3\n",
       "instruments        3\n",
       "training           3\n",
       "error              3\n",
       "Length: 409, dtype: int64"
      ]
     },
     "execution_count": 15,
     "metadata": {},
     "output_type": "execute_result"
    }
   ],
   "source": [
    "abc = counts.astype(bool).astype(int)\n",
    "abc.sum().sort_values(ascending=False)"
   ]
  },
  {
   "cell_type": "code",
   "execution_count": 16,
   "metadata": {},
   "outputs": [
    {
     "data": {
      "text/plain": [
       "Int64Index([  67,   93,  112,  122,  149,  177,  181,  258,  336,  404,  411,\n",
       "             416,  455,  459,  479,  523,  661,  666,  668,  738,  763,  814,\n",
       "             836,  841,  844,  852,  941,  944,  950,  958, 1010, 1074, 1080,\n",
       "            1091, 1092, 1093, 1095, 1108],\n",
       "           dtype='int64')"
      ]
     },
     "execution_count": 16,
     "metadata": {},
     "output_type": "execute_result"
    }
   ],
   "source": [
    "abc[abc.duplicated() == True].index"
   ]
  },
  {
   "cell_type": "code",
   "execution_count": 17,
   "metadata": {},
   "outputs": [
    {
     "data": {
      "text/plain": [
       "67      Best Practice: Evaluate earliest possible Subc...\n",
       "93           Best Practice: Piping:\\nRide on P1 PDR & TEQ\n",
       "112     Best Practice: Transportation Steel skid for S...\n",
       "122                                     BOMBA Requirement\n",
       "149                             CIDB requirement for COA.\n",
       "177     Colour tone variation e.g. handrails, structur...\n",
       "181                                 Community engagement.\n",
       "258                            Delay on closing NCR / SSR\n",
       "336                                        EO Dispersion.\n",
       "404      Foundation: Foundation of pumps hacked too much.\n",
       "411                    Geographical Limits & Interfacing.\n",
       "416                                 Good HSSE Performance\n",
       "455                             Inaccuracy of TBE report.\n",
       "459                    Incompetency of Machine Operators.\n",
       "479     Inexperienced in specialist work i.e. dredging...\n",
       "523                       Interface with P22 (Punj Lloyd)\n",
       "661        Manhours without LTI (3.3 mil manhours) - P18B\n",
       "666                                Material shortage (UG)\n",
       "668                    Max. Skin Temperature Requirement.\n",
       "738                        Never ending quantity freezing\n",
       "763                       Non-performance of MVL supplier\n",
       "814                              POL / Documents transmit\n",
       "836     Positive: TPI appointed by PMC inspector was i...\n",
       "841     Preference project requirement is not aligned ...\n",
       "844     Process / HSE: Toxic EO exposure (STEL) in cas...\n",
       "852     Process: Licensors Guarantees for front end an...\n",
       "941     Recovery work due to unforeseen sea bed condit...\n",
       "944                              Relay Online Calibration\n",
       "950                       Re-sequencing PAYMENT MILESTONE\n",
       "958     Roof slab not waterproofed at filter & storm w...\n",
       "1010                                      Survey Monument\n",
       "1074               Unfamiliar with regulatory requirement\n",
       "1080    Unhealthy work life balance of the staff in ex...\n",
       "1091        Untimely mobilization of sufficient workforce\n",
       "1092        Untimely mobilization of sufficient workforce\n",
       "1093        Untimely mobilization of sufficient workforce\n",
       "1095    Use of Copper Alloy for cooling water heat exc...\n",
       "1108                        Withdrawal of SI letter award\n",
       "Name: Lesson Description, dtype: object"
      ]
     },
     "execution_count": 17,
     "metadata": {},
     "output_type": "execute_result"
    }
   ],
   "source": [
    "pll.loc[abc[abc.duplicated() == True].index]['Lesson Description']"
   ]
  },
  {
   "cell_type": "code",
   "execution_count": 18,
   "metadata": {},
   "outputs": [
    {
     "data": {
      "text/plain": [
       "<1117x409 sparse matrix of type '<class 'numpy.int32'>'\n",
       "\twith 5325 stored elements in Compressed Sparse Row format>"
      ]
     },
     "execution_count": 18,
     "metadata": {},
     "output_type": "execute_result"
    }
   ],
   "source": [
    "from sklearn.metrics.pairwise import cosine_similarity\n",
    "from scipy import sparse\n",
    "\n",
    "A_sparse = sparse.csr_matrix(abc)\n",
    "A_sparse"
   ]
  },
  {
   "cell_type": "code",
   "execution_count": 19,
   "metadata": {},
   "outputs": [
    {
     "name": "stdout",
     "output_type": "stream",
     "text": [
      "pairwise dense output:\n",
      " [[1.         0.         0.         ... 0.         0.         0.        ]\n",
      " [0.         1.         0.         ... 0.         0.         0.        ]\n",
      " [0.         0.         1.         ... 0.         0.         0.        ]\n",
      " ...\n",
      " [0.         0.         0.         ... 1.         0.25819889 0.        ]\n",
      " [0.         0.         0.         ... 0.25819889 1.         0.        ]\n",
      " [0.         0.         0.         ... 0.         0.         1.        ]]\n",
      "\n",
      "pairwise sparse output:\n",
      "   (0, 985)\t0.13363062095621217\n",
      "  (0, 981)\t0.12499999999999997\n",
      "  (0, 634)\t0.17677669529663687\n",
      "  (0, 617)\t0.10660035817780521\n",
      "  (0, 826)\t0.10660035817780521\n",
      "  (0, 818)\t0.2041241452319315\n",
      "  (0, 788)\t0.35355339059327373\n",
      "  (0, 438)\t0.15811388300841894\n",
      "  (0, 1034)\t0.10206207261596575\n",
      "  (0, 986)\t0.1178511301977579\n",
      "  (0, 960)\t0.10660035817780521\n",
      "  (0, 778)\t0.13363062095621217\n",
      "  (0, 697)\t0.1178511301977579\n",
      "  (0, 678)\t0.12499999999999997\n",
      "  (0, 504)\t0.13363062095621217\n",
      "  (0, 493)\t0.12499999999999997\n",
      "  (0, 331)\t0.14433756729740646\n",
      "  (0, 308)\t0.17677669529663687\n",
      "  (0, 307)\t0.11180339887498948\n",
      "  (0, 278)\t0.14433756729740646\n",
      "  (0, 970)\t0.2041241452319315\n",
      "  (0, 904)\t0.11180339887498948\n",
      "  (0, 662)\t0.24999999999999994\n",
      "  (0, 587)\t0.11180339887498948\n",
      "  (0, 561)\t0.17677669529663687\n",
      "  :\t:\n",
      "  (1116, 752)\t0.3333333333333334\n",
      "  (1116, 713)\t0.2886751345948129\n",
      "  (1116, 640)\t0.2357022603955159\n",
      "  (1116, 638)\t0.2182178902359924\n",
      "  (1116, 615)\t0.2886751345948129\n",
      "  (1116, 590)\t0.25819888974716115\n",
      "  (1116, 505)\t0.25819888974716115\n",
      "  (1116, 454)\t0.2041241452319315\n",
      "  (1116, 355)\t0.2357022603955159\n",
      "  (1116, 340)\t0.3333333333333334\n",
      "  (1116, 244)\t0.2886751345948129\n",
      "  (1116, 220)\t0.19245008972987526\n",
      "  (1116, 1116)\t1.0000000000000002\n",
      "  (1116, 575)\t0.25819888974716115\n",
      "  (1116, 445)\t0.3333333333333334\n",
      "  (1116, 432)\t0.2041241452319315\n",
      "  (1116, 273)\t0.14907119849998599\n",
      "  (1116, 192)\t0.3333333333333334\n",
      "  (1116, 191)\t0.2886751345948129\n",
      "  (1116, 162)\t0.2886751345948129\n",
      "  (1116, 161)\t0.408248290463863\n",
      "  (1116, 156)\t0.1825741858350554\n",
      "  (1116, 151)\t0.25819888974716115\n",
      "  (1116, 81)\t0.3333333333333334\n",
      "  (1116, 25)\t0.2886751345948129\n",
      "\n"
     ]
    }
   ],
   "source": [
    "similarities = cosine_similarity(A_sparse)\n",
    "print('pairwise dense output:\\n {}\\n'.format(similarities))\n",
    "\n",
    "#also can output sparse matrices\n",
    "similarities_sparse = cosine_similarity(A_sparse,dense_output=False)\n",
    "print('pairwise sparse output:\\n {}\\n'.format(similarities_sparse))"
   ]
  },
  {
   "cell_type": "code",
   "execution_count": null,
   "metadata": {},
   "outputs": [],
   "source": [
    "print(pll.iloc[1116]['Lesson Description'])\n",
    "print(pll.iloc[340]['Lesson Description'])\n",
    "print(pll.iloc[161]['Lesson Description'])\n",
    "print(pll.iloc[683]['Lesson Description'])"
   ]
  },
  {
   "cell_type": "code",
   "execution_count": 20,
   "metadata": {},
   "outputs": [],
   "source": [
    "defg = pd.DataFrame(similarities)"
   ]
  },
  {
   "cell_type": "code",
   "execution_count": 21,
   "metadata": {},
   "outputs": [
    {
     "data": {
      "text/plain": [
       "<matplotlib.axes._subplots.AxesSubplot at 0x1ad1b8a28d0>"
      ]
     },
     "execution_count": 21,
     "metadata": {},
     "output_type": "execute_result"
    },
    {
     "data": {
      "image/png": "[encoded data removed]",
      "text/plain": [
       "<Figure size 432x288 with 2 Axes>"
      ]
     },
     "metadata": {},
     "output_type": "display_data"
    }
   ],
   "source": [
    "%matplotlib inline\n",
    "import seaborn as sns\n",
    "sns.heatmap(defg)"
   ]
  },
  {
   "cell_type": "code",
   "execution_count": null,
   "metadata": {},
   "outputs": [],
   "source": [
    "s = defg.unstack()\n",
    "so = s.sort_values(kind=\"quicksort\")\n",
    "\n",
    "print (so[-1157:-1147])"
   ]
  },
  {
   "cell_type": "code",
   "execution_count": 22,
   "metadata": {},
   "outputs": [],
   "source": [
    "c1 = defg.unstack()\n",
    "c2 = c1.sort_values(ascending = False)\n",
    "\n",
    "c3 = c2[(c2 < 0.999) & (c2>0.6)]"
   ]
  },
  {
   "cell_type": "code",
   "execution_count": 38,
   "metadata": {},
   "outputs": [
    {
     "data": {
      "text/plain": [
       "190  683    0.912871\n",
       "683  190    0.912871\n",
       "560  561    0.894427\n",
       "561  560    0.894427\n",
       "289  288    0.866025\n",
       "dtype: float64"
      ]
     },
     "execution_count": 38,
     "metadata": {},
     "output_type": "execute_result"
    }
   ],
   "source": [
    "c3.head()"
   ]
  },
  {
   "cell_type": "code",
   "execution_count": 28,
   "metadata": {},
   "outputs": [],
   "source": [
    "c3.to_frame(name='column_name').to_excel('xlfile.xlsx', sheet_name='s')"
   ]
  },
  {
   "cell_type": "code",
   "execution_count": 2,
   "metadata": {},
   "outputs": [
    {
     "ename": "NameError",
     "evalue": "name 'pll' is not defined",
     "output_type": "error",
     "traceback": [
      "\u001b[1;31m---------------------------------------------------------------------------\u001b[0m",
      "\u001b[1;31mNameError\u001b[0m                                 Traceback (most recent call last)",
      "\u001b[1;32m<ipython-input-2-dd6c85546cda>\u001b[0m in \u001b[0;36m<module>\u001b[1;34m()\u001b[0m\n\u001b[1;32m----> 1\u001b[1;33m \u001b[0mprint\u001b[0m\u001b[1;33m(\u001b[0m\u001b[0mpll\u001b[0m\u001b[1;33m.\u001b[0m\u001b[0miloc\u001b[0m\u001b[1;33m[\u001b[0m\u001b[1;36m100\u001b[0m\u001b[1;33m]\u001b[0m\u001b[1;33m[\u001b[0m\u001b[1;34m'Lesson Description'\u001b[0m\u001b[1;33m]\u001b[0m\u001b[1;33m)\u001b[0m\u001b[1;33m\u001b[0m\u001b[0m\n\u001b[0m\u001b[0;32m      2\u001b[0m \u001b[0mprint\u001b[0m\u001b[1;33m(\u001b[0m\u001b[0mpll\u001b[0m\u001b[1;33m.\u001b[0m\u001b[0miloc\u001b[0m\u001b[1;33m[\u001b[0m\u001b[1;36m841\u001b[0m\u001b[1;33m]\u001b[0m\u001b[1;33m[\u001b[0m\u001b[1;34m'Lesson Description'\u001b[0m\u001b[1;33m]\u001b[0m\u001b[1;33m)\u001b[0m\u001b[1;33m\u001b[0m\u001b[0m\n",
      "\u001b[1;31mNameError\u001b[0m: name 'pll' is not defined"
     ]
    }
   ],
   "source": [
    "print(pll.iloc[100]['Lesson Description'])\n",
    "print(pll.iloc[841]['Lesson Description'])"
   ]
  },
  {
   "cell_type": "code",
   "execution_count": 51,
   "metadata": {},
   "outputs": [],
   "source": [
    "c4 = pd.DataFrame({'correlation':c3.index, 'list':c3.values})"
   ]
  },
  {
   "cell_type": "code",
   "execution_count": 67,
   "metadata": {},
   "outputs": [
    {
     "data": {
      "text/html": [
       "<div>\n",
       "<style scoped>\n",
       "    .dataframe tbody tr th:only-of-type {\n",
       "        vertical-align: middle;\n",
       "    }\n",
       "\n",
       "    .dataframe tbody tr th {\n",
       "        vertical-align: top;\n",
       "    }\n",
       "\n",
       "    .dataframe thead th {\n",
       "        text-align: right;\n",
       "    }\n",
       "</style>\n",
       "<table border=\"1\" class=\"dataframe\">\n",
       "  <thead>\n",
       "    <tr style=\"text-align: right;\">\n",
       "      <th></th>\n",
       "      <th>list</th>\n",
       "      <th>corr1</th>\n",
       "      <th>corr2</th>\n",
       "    </tr>\n",
       "  </thead>\n",
       "  <tbody>\n",
       "    <tr>\n",
       "      <th>0</th>\n",
       "      <td>0.912871</td>\n",
       "      <td>190</td>\n",
       "      <td>683</td>\n",
       "    </tr>\n",
       "    <tr>\n",
       "      <th>1</th>\n",
       "      <td>0.912871</td>\n",
       "      <td>683</td>\n",
       "      <td>190</td>\n",
       "    </tr>\n",
       "    <tr>\n",
       "      <th>2</th>\n",
       "      <td>0.894427</td>\n",
       "      <td>560</td>\n",
       "      <td>561</td>\n",
       "    </tr>\n",
       "    <tr>\n",
       "      <th>3</th>\n",
       "      <td>0.894427</td>\n",
       "      <td>561</td>\n",
       "      <td>560</td>\n",
       "    </tr>\n",
       "    <tr>\n",
       "      <th>4</th>\n",
       "      <td>0.866025</td>\n",
       "      <td>289</td>\n",
       "      <td>288</td>\n",
       "    </tr>\n",
       "  </tbody>\n",
       "</table>\n",
       "</div>"
      ],
      "text/plain": [
       "       list corr1 corr2\n",
       "0  0.912871   190   683\n",
       "1  0.912871   683   190\n",
       "2  0.894427   560   561\n",
       "3  0.894427   561   560\n",
       "4  0.866025   289   288"
      ]
     },
     "execution_count": 67,
     "metadata": {},
     "output_type": "execute_result"
    }
   ],
   "source": [
    "c4.head()"
   ]
  },
  {
   "cell_type": "code",
   "execution_count": 53,
   "metadata": {},
   "outputs": [
    {
     "name": "stdout",
     "output_type": "stream",
     "text": [
      "['190', '683', '560', '561', '289']\n",
      "['683', '190', '561', '560', '288']\n"
     ]
    }
   ],
   "source": [
    "index0 = c4['correlation']\n",
    "\n",
    "parentheses = ['(',')',' ']\n",
    "\n",
    "index1 = []\n",
    "index2 = []\n",
    "\n",
    "for index in index0:\n",
    "    for punc in parentheses:\n",
    "        index = str(index)\n",
    "        index = index.replace(punc,'')\n",
    "    corrs = index.split(',')\n",
    "    index1.append(corrs[0])\n",
    "    index2.append(corrs[1])\n",
    "    \n",
    "print(index1[:5])\n",
    "print(index2[:5])\n",
    "\n",
    "c4['corr1'] = index1\n",
    "c4['corr2'] = index2\n",
    "\n",
    "c4.drop(columns = ['correlation'],inplace=True)\n"
   ]
  },
  {
   "cell_type": "code",
   "execution_count": 71,
   "metadata": {},
   "outputs": [
    {
     "name": "stdout",
     "output_type": "stream",
     "text": [
      "<class 'pandas.core.frame.DataFrame'>\n",
      "RangeIndex: 556 entries, 0 to 555\n",
      "Data columns (total 3 columns):\n",
      "list     556 non-null float64\n",
      "corr1    556 non-null int64\n",
      "corr2    556 non-null int64\n",
      "dtypes: float64(1), int64(2)\n",
      "memory usage: 13.1 KB\n",
      "       list  corr1  corr2\n",
      "0  0.912871    190    683\n",
      "1  0.912871    683    190\n",
      "2  0.894427    560    561\n",
      "3  0.894427    561    560\n",
      "4  0.866025    289    288\n",
      "5  0.866025    597    606\n",
      "6  0.866025    599    603\n",
      "7  0.866025    606    597\n",
      "8  0.866025    288    289\n",
      "9  0.866025    338    359\n"
     ]
    }
   ],
   "source": [
    "c4[['corr1','corr2']] = c4[['corr1','corr2']].astype('int64')\n",
    "c4.info()\n",
    "print(c4.head(10))"
   ]
  },
  {
   "cell_type": "code",
   "execution_count": 74,
   "metadata": {},
   "outputs": [
    {
     "data": {
      "text/plain": [
       "corr1\n",
       "701     10\n",
       "149      6\n",
       "147      6\n",
       "114      5\n",
       "668      5\n",
       "113      5\n",
       "767      5\n",
       "1074     5\n",
       "28       5\n",
       "841      5\n",
       "100      5\n",
       "122      5\n",
       "874      5\n",
       "1098     5\n",
       "1049     5\n",
       "854      4\n",
       "855      4\n",
       "103      4\n",
       "690      4\n",
       "717      4\n",
       "267      4\n",
       "38       4\n",
       "603      4\n",
       "259      4\n",
       "641      3\n",
       "132      3\n",
       "472      3\n",
       "479      3\n",
       "362      3\n",
       "352      3\n",
       "        ..\n",
       "703      1\n",
       "700      1\n",
       "698      1\n",
       "696      1\n",
       "693      1\n",
       "692      1\n",
       "689      1\n",
       "685      1\n",
       "683      1\n",
       "681      1\n",
       "672      1\n",
       "666      1\n",
       "665      1\n",
       "661      1\n",
       "658      1\n",
       "651      1\n",
       "648      1\n",
       "640      1\n",
       "638      1\n",
       "630      1\n",
       "629      1\n",
       "628      1\n",
       "619      1\n",
       "618      1\n",
       "617      1\n",
       "604      1\n",
       "595      1\n",
       "578      1\n",
       "574      1\n",
       "6        1\n",
       "Length: 333, dtype: int64"
      ]
     },
     "execution_count": 74,
     "metadata": {},
     "output_type": "execute_result"
    }
   ],
   "source": [
    "c4.groupby(['corr1']).size().sort_values(ascending=False)"
   ]
  },
  {
   "cell_type": "code",
   "execution_count": null,
   "metadata": {},
   "outputs": [],
   "source": [
    "B_sparse = sparse.csr_matrix(counts)\n",
    "B_sparse"
   ]
  },
  {
   "cell_type": "code",
   "execution_count": null,
   "metadata": {},
   "outputs": [],
   "source": [
    "B_similarities = cosine_similarity(B_sparse)\n",
    "print('pairwise dense output:\\n {}\\n'.format(B_similarities))\n",
    "\n",
    "#also can output sparse matrices\n",
    "B_similarities_sparse = cosine_similarity(B_sparse,dense_output=False)\n",
    "print('pairwise sparse output:\\n {}\\n'.format(B_similarities_sparse))"
   ]
  },
  {
   "cell_type": "code",
   "execution_count": null,
   "metadata": {},
   "outputs": [],
   "source": [
    "counts.sum(axis=1)"
   ]
  }
 ],
 "metadata": {
  "kernelspec": {
   "display_name": "Python 3",
   "language": "python",
   "name": "python3"
  },
  "language_info": {
   "codemirror_mode": {
    "name": "ipython",
    "version": 3
   },
   "file_extension": ".py",
   "mimetype": "text/x-python",
   "name": "python",
   "nbconvert_exporter": "python",
   "pygments_lexer": "ipython3",
   "version": "3.7.1"
  }
 },
 "nbformat": 4,
 "nbformat_minor": 2
}
